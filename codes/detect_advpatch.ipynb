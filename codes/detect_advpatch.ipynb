{
 "metadata": {
  "language_info": {
   "codemirror_mode": {
    "name": "ipython",
    "version": 3
   },
   "file_extension": ".py",
   "mimetype": "text/x-python",
   "name": "python",
   "nbconvert_exporter": "python",
   "pygments_lexer": "ipython3",
   "version": "3.7.7-final"
  },
  "orig_nbformat": 2,
  "kernelspec": {
   "name": "python37764bitopenmmlabconda8b303c584c604ca99f71b49f81978ded",
   "display_name": "Python 3.7.7 64-bit ('open-mmlab': conda)"
  }
 },
 "nbformat": 4,
 "nbformat_minor": 2,
 "cells": [
  {
   "cell_type": "code",
   "execution_count": null,
   "metadata": {},
   "outputs": [],
   "source": [
    "import os\n",
    "import re\n",
    "import pdb\n",
    "import torch\n",
    "import logging\n",
    "import numpy as np\n",
    "\n",
    "import torch.nn.functional as F\n",
    "\n",
    "from tqdm import tqdm, trange\n",
    "from glob import glob\n",
    "from mylogger import get_mylogger\n",
    "from image_specific_attack import create_model"
   ]
  },
  {
   "cell_type": "code",
   "execution_count": null,
   "metadata": {},
   "outputs": [],
   "source": [
    "def load_image(image_path: str):\n",
    "    filename = glob(image_path+\"*.pth\")\n",
    "    adv_examples = []\n",
    "    labels = []\n",
    "    for file in tqdm(filename[0:1000]):\n",
    "        adv_example = torch.load(file)\n",
    "        adv_examples.append(adv_example)\n",
    "\n",
    "        label = int(re.split('_|\\.', file)[-2])\n",
    "        labels.append(label)\n",
    "\n",
    "    return adv_examples, labels\n",
    "    "
   ]
  },
  {
   "cell_type": "code",
   "execution_count": null,
   "metadata": {},
   "outputs": [],
   "source": [
    "# log_path = \"./log/detect\"\n",
    "# os.makedirs(log_path, exist_ok=True)\n",
    "# logger = get_mylogger(log_path)\n",
    "\n",
    "patch_size = 7\n",
    "model = create_model(\n",
    "    'ResNet18', './result/models/ResNet18_{}/model_best.pth.tar'.format(patch_size)).eval()\n",
    "\n",
    "adv_example_path = 'result/attack/image_specific/ResNet18/ResNet18_{}/patched/'.format(\n",
    "    patch_size)\n",
    "adv_examples, labels = load_image(adv_example_path)"
   ]
  },
  {
   "cell_type": "code",
   "execution_count": null,
   "metadata": {},
   "outputs": [],
   "source": [
    "def compute_normal_acc(model, adv_examples, labels):\n",
    "    normal_acc = 0\n",
    "    for i in trange(len(adv_examples)):\n",
    "        adv_example = adv_examples[i]\n",
    "        label = labels[i]\n",
    "\n",
    "        adv_out = F.log_softmax(model(adv_example), dim=1)\n",
    "        adv_out_probs, adv_out_labels = adv_out.max(1)\n",
    "        # have already set the target label to 5.\n",
    "        if adv_out_labels == label:\n",
    "            normal_acc += 1\n",
    "    print(\"\\nnormal acc: \", normal_acc/len(adv_examples))\n",
    "\n",
    "def compute_attack_acc(model, adv_examples, labels):\n",
    "    attack_acc = 0\n",
    "    for i in trange(len(adv_examples)):\n",
    "        adv_example = adv_examples[i]\n",
    "        label = labels[i]\n",
    "\n",
    "        adv_out = F.log_softmax(model(adv_example), dim=1)\n",
    "        adv_out_probs, adv_out_labels = adv_out.max(1)\n",
    "        # have already set the target label to 5.\n",
    "        if adv_out_labels == 5:\n",
    "            attack_acc += 1\n",
    "    print(\"\\nattack acc: \", attack_acc/len(adv_examples))"
   ]
  },
  {
   "cell_type": "code",
   "execution_count": null,
   "metadata": {},
   "outputs": [],
   "source": [
    "compute_normal_acc(model, adv_examples, labels)"
   ]
  },
  {
   "cell_type": "code",
   "execution_count": null,
   "metadata": {},
   "outputs": [],
   "source": [
    "def detect_patch(model, adv_example):\n",
    "    output = model.module.conv1(adv_example)\n",
    "    output = output.sum(axis = 1)\n",
    "    topk = 115\n",
    "    tmp_output = output.reshape(-1)\n",
    "    topk_value = tmp_output[torch.topk(tmp_output,topk)[1][-1]]\n",
    "    tmp_output = torch.relu(torch.sign(output-topk_value))\n",
    "    all_one_conv = torch.nn.Conv2d(1,1,7)\n",
    "    all_one_conv.weight.data = torch.ones((1,1,7,7))\n",
    "    all_one_conv.bias.data = torch.zeros(1) \n",
    "    a = all_one_conv(tmp_output.unsqueeze(0).to(torch.device('cpu')))\n",
    "    return a"
   ]
  },
  {
   "cell_type": "code",
   "execution_count": null,
   "metadata": {},
   "outputs": [],
   "source": [
    "import matplotlib.pyplot as plt\n",
    "%inline matplotlib"
   ]
  },
  {
   "cell_type": "code",
   "execution_count": null,
   "metadata": {},
   "outputs": [],
   "source": [
    "a = detect_patch(model, adv_examples[13])\n",
    "plt.imshow(a.squeeze(0).squeeze(0).detach().numpy())"
   ]
  },
  {
   "cell_type": "code",
   "execution_count": null,
   "metadata": {},
   "outputs": [],
   "source": [
    "clean_example_path = 'result/attack/image_specific/ResNet18/ResNet18_{}/ori/'.format(\n",
    "    patch_size)\n",
    "clean_examples, labels = load_image(clean_example_path)\n"
   ]
  },
  {
   "cell_type": "code",
   "execution_count": null,
   "metadata": {},
   "outputs": [],
   "source": [
    "a = detect_patch(model, clean_examples[19])\n",
    "plt.imshow(a.squeeze(0).squeeze(0).detach().numpy())"
   ]
  },
  {
   "cell_type": "code",
   "execution_count": null,
   "metadata": {},
   "outputs": [],
   "source": [
    "dir = 'result/attack/image_specific/ResNet18/ResNet18_10'\n",
    "files = os.listdir(dir)"
   ]
  },
  {
   "cell_type": "code",
   "execution_count": null,
   "metadata": {},
   "outputs": [],
   "source": [
    "files[1]"
   ]
  },
  {
   "cell_type": "code",
   "execution_count": null,
   "metadata": {
    "tags": []
   },
   "outputs": [],
   "source": [
    "from matplotlib import pyplot as plt\n",
    "mdr_files = []\n",
    "for file in files:\n",
    "    if file.endswith('_mrd.pth'):\n",
    "        mdr_files.append(file)\n",
    "\n"
   ]
  },
  {
   "cell_type": "code",
   "execution_count": null,
   "metadata": {},
   "outputs": [],
   "source": [
    "model = create_model(\n",
    "    'ResNet18', './result/models/ResNet18_{}/model_best.pth.tar'.format(10)).eval()"
   ]
  },
  {
   "cell_type": "code",
   "execution_count": null,
   "metadata": {},
   "outputs": [],
   "source": [
    "os.makedirs('tmp/', exist_ok=True)\n",
    "for mdr_file in mdr_files:\n",
    "    fimg = os.path.join(dir,mdr_file)\n",
    "    if fimg.startswith('ori'):\n",
    "        continue\n",
    "    fimg = fimg[:-8] + '.pth'\n",
    "    img = torch.load(fimg).cuda()\n",
    "    output = model(img)\n",
    "    prob, cls = torch.max(output, 1)\n",
    "    prob, cls = prob.cpu().detach().numpy(), cls.cpu().detach().numpy()\n",
    "    if  cls != 5: \n",
    "        continue\n",
    "\n",
    "    fimg = fimg[:-4] + '_mrd.pth'\n",
    "    cls_grid = torch.load(fimg)['cls']\n",
    "    plt.figure()\n",
    "    plt.title(fimg.split(\"/\")[-1])\n",
    "    plt.imshow(cls_grid)\n",
    "    plt.colorbar()\n",
    "    plt.savefig(\"tmp/\"+mdr_file.split(\"\\.\")[0] + \".jpg\")"
   ]
  },
  {
   "cell_type": "code",
   "execution_count": 76,
   "metadata": {},
   "outputs": [],
   "source": [
    "from matplotlib import pyplot as plt\n",
    "import torch\n",
    "\n",
    "file = './result/attack/image_specific/ResNet18/ResNet18_7/patched_ResNet18_7_61_3.pth'\n",
    "img  = torch.load(file,map_location=torch.device('cpu')).detach().numpy().squeeze(0).transpose(1,2,0)"
   ]
  },
  {
   "cell_type": "code",
   "execution_count": 77,
   "metadata": {},
   "outputs": [
    {
     "output_type": "execute_result",
     "data": {
      "text/plain": [
       "<matplotlib.colorbar.Colorbar at 0x7f213b7c3f10>"
      ]
     },
     "metadata": {},
     "execution_count": 77
    },
    {
     "output_type": "display_data",
     "data": {
      "text/plain": "<Figure size 216x288 with 2 Axes>",
      "image/svg+xml": "<?xml version=\"1.0\" encoding=\"utf-8\" standalone=\"no\"?>\n<!DOCTYPE svg PUBLIC \"-//W3C//DTD SVG 1.1//EN\"\n  \"http://www.w3.org/Graphics/SVG/1.1/DTD/svg11.dtd\">\n<!-- Created with matplotlib (https://matplotlib.org/) -->\n<svg height=\"241.518125pt\" version=\"1.1\" viewBox=\"0 0 210.190125 241.518125\" width=\"210.190125pt\" xmlns=\"http://www.w3.org/2000/svg\" xmlns:xlink=\"http://www.w3.org/1999/xlink\">\n <metadata>\n  <rdf:RDF xmlns:cc=\"http://creativecommons.org/ns#\" xmlns:dc=\"http://purl.org/dc/elements/1.1/\" xmlns:rdf=\"http://www.w3.org/1999/02/22-rdf-syntax-ns#\">\n   <cc:Work>\n    <dc:type rdf:resource=\"http://purl.org/dc/dcmitype/StillImage\"/>\n    <dc:date>2020-11-19T20:20:16.143193</dc:date>\n    <dc:format>image/svg+xml</dc:format>\n    <dc:creator>\n     <cc:Agent>\n      <dc:title>Matplotlib v3.3.0, https://matplotlib.org/</dc:title>\n     </cc:Agent>\n    </dc:creator>\n   </cc:Work>\n  </rdf:RDF>\n </metadata>\n <defs>\n  <style type=\"text/css\">*{stroke-linecap:butt;stroke-linejoin:round;}</style>\n </defs>\n <g id=\"figure_1\">\n  <g id=\"patch_1\">\n   <path d=\"M 0 241.518125 \nL 210.190125 241.518125 \nL 210.190125 0 \nL 0 0 \nz\n\" style=\"fill:none;\"/>\n  </g>\n  <g id=\"axes_1\">\n   <g id=\"patch_2\">\n    <path d=\"M 26.925 186.679219 \nL 160.845 186.679219 \nL 160.845 52.759219 \nL 26.925 52.759219 \nz\n\" style=\"fill:#ffffff;\"/>\n   </g>\n   <g clip-path=\"url(#p41eb6f3fda)\">\n    <image height=\"134\" id=\"image2cb26f1b91\" transform=\"scale(1 -1)translate(0 -134)\" width=\"134\" x=\"26.925\" xlink:href=\"data:image/png;base64,\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\" y=\"-52.679219\"/>\n   </g>\n   <g id=\"matplotlib.axis_1\">\n    <g id=\"xtick_1\">\n     <g id=\"line2d_1\">\n      <defs>\n       <path d=\"M 0 0 \nL 0 3.5 \n\" id=\"m00159da549\" style=\"stroke:#000000;stroke-width:0.8;\"/>\n      </defs>\n      <g>\n       <use style=\"stroke:#000000;stroke-width:0.8;\" x=\"29.0175\" xlink:href=\"#m00159da549\" y=\"186.679219\"/>\n      </g>\n     </g>\n     <g id=\"text_1\">\n      <!-- 0 -->\n      <g transform=\"translate(25.83625 201.277656)scale(0.1 -0.1)\">\n       <defs>\n        <path d=\"M 31.78125 66.40625 \nQ 24.171875 66.40625 20.328125 58.90625 \nQ 16.5 51.421875 16.5 36.375 \nQ 16.5 21.390625 20.328125 13.890625 \nQ 24.171875 6.390625 31.78125 6.390625 \nQ 39.453125 6.390625 43.28125 13.890625 \nQ 47.125 21.390625 47.125 36.375 \nQ 47.125 51.421875 43.28125 58.90625 \nQ 39.453125 66.40625 31.78125 66.40625 \nz\nM 31.78125 74.21875 \nQ 44.046875 74.21875 50.515625 64.515625 \nQ 56.984375 54.828125 56.984375 36.375 \nQ 56.984375 17.96875 50.515625 8.265625 \nQ 44.046875 -1.421875 31.78125 -1.421875 \nQ 19.53125 -1.421875 13.0625 8.265625 \nQ 6.59375 17.96875 6.59375 36.375 \nQ 6.59375 54.828125 13.0625 64.515625 \nQ 19.53125 74.21875 31.78125 74.21875 \nz\n\" id=\"DejaVuSans-48\"/>\n       </defs>\n       <use xlink:href=\"#DejaVuSans-48\"/>\n      </g>\n     </g>\n    </g>\n    <g id=\"xtick_2\">\n     <g id=\"line2d_2\">\n      <g>\n       <use style=\"stroke:#000000;stroke-width:0.8;\" x=\"70.8675\" xlink:href=\"#m00159da549\" y=\"186.679219\"/>\n      </g>\n     </g>\n     <g id=\"text_2\">\n      <!-- 10 -->\n      <g transform=\"translate(64.505 201.277656)scale(0.1 -0.1)\">\n       <defs>\n        <path d=\"M 12.40625 8.296875 \nL 28.515625 8.296875 \nL 28.515625 63.921875 \nL 10.984375 60.40625 \nL 10.984375 69.390625 \nL 28.421875 72.90625 \nL 38.28125 72.90625 \nL 38.28125 8.296875 \nL 54.390625 8.296875 \nL 54.390625 0 \nL 12.40625 0 \nz\n\" id=\"DejaVuSans-49\"/>\n       </defs>\n       <use xlink:href=\"#DejaVuSans-49\"/>\n       <use x=\"63.623047\" xlink:href=\"#DejaVuSans-48\"/>\n      </g>\n     </g>\n    </g>\n    <g id=\"xtick_3\">\n     <g id=\"line2d_3\">\n      <g>\n       <use style=\"stroke:#000000;stroke-width:0.8;\" x=\"112.7175\" xlink:href=\"#m00159da549\" y=\"186.679219\"/>\n      </g>\n     </g>\n     <g id=\"text_3\">\n      <!-- 20 -->\n      <g transform=\"translate(106.355 201.277656)scale(0.1 -0.1)\">\n       <defs>\n        <path d=\"M 19.1875 8.296875 \nL 53.609375 8.296875 \nL 53.609375 0 \nL 7.328125 0 \nL 7.328125 8.296875 \nQ 12.9375 14.109375 22.625 23.890625 \nQ 32.328125 33.6875 34.8125 36.53125 \nQ 39.546875 41.84375 41.421875 45.53125 \nQ 43.3125 49.21875 43.3125 52.78125 \nQ 43.3125 58.59375 39.234375 62.25 \nQ 35.15625 65.921875 28.609375 65.921875 \nQ 23.96875 65.921875 18.8125 64.3125 \nQ 13.671875 62.703125 7.8125 59.421875 \nL 7.8125 69.390625 \nQ 13.765625 71.78125 18.9375 73 \nQ 24.125 74.21875 28.421875 74.21875 \nQ 39.75 74.21875 46.484375 68.546875 \nQ 53.21875 62.890625 53.21875 53.421875 \nQ 53.21875 48.921875 51.53125 44.890625 \nQ 49.859375 40.875 45.40625 35.40625 \nQ 44.1875 33.984375 37.640625 27.21875 \nQ 31.109375 20.453125 19.1875 8.296875 \nz\n\" id=\"DejaVuSans-50\"/>\n       </defs>\n       <use xlink:href=\"#DejaVuSans-50\"/>\n       <use x=\"63.623047\" xlink:href=\"#DejaVuSans-48\"/>\n      </g>\n     </g>\n    </g>\n    <g id=\"xtick_4\">\n     <g id=\"line2d_4\">\n      <g>\n       <use style=\"stroke:#000000;stroke-width:0.8;\" x=\"154.5675\" xlink:href=\"#m00159da549\" y=\"186.679219\"/>\n      </g>\n     </g>\n     <g id=\"text_4\">\n      <!-- 30 -->\n      <g transform=\"translate(148.205 201.277656)scale(0.1 -0.1)\">\n       <defs>\n        <path d=\"M 40.578125 39.3125 \nQ 47.65625 37.796875 51.625 33 \nQ 55.609375 28.21875 55.609375 21.1875 \nQ 55.609375 10.40625 48.1875 4.484375 \nQ 40.765625 -1.421875 27.09375 -1.421875 \nQ 22.515625 -1.421875 17.65625 -0.515625 \nQ 12.796875 0.390625 7.625 2.203125 \nL 7.625 11.71875 \nQ 11.71875 9.328125 16.59375 8.109375 \nQ 21.484375 6.890625 26.8125 6.890625 \nQ 36.078125 6.890625 40.9375 10.546875 \nQ 45.796875 14.203125 45.796875 21.1875 \nQ 45.796875 27.640625 41.28125 31.265625 \nQ 36.765625 34.90625 28.71875 34.90625 \nL 20.21875 34.90625 \nL 20.21875 43.015625 \nL 29.109375 43.015625 \nQ 36.375 43.015625 40.234375 45.921875 \nQ 44.09375 48.828125 44.09375 54.296875 \nQ 44.09375 59.90625 40.109375 62.90625 \nQ 36.140625 65.921875 28.71875 65.921875 \nQ 24.65625 65.921875 20.015625 65.03125 \nQ 15.375 64.15625 9.8125 62.3125 \nL 9.8125 71.09375 \nQ 15.4375 72.65625 20.34375 73.4375 \nQ 25.25 74.21875 29.59375 74.21875 \nQ 40.828125 74.21875 47.359375 69.109375 \nQ 53.90625 64.015625 53.90625 55.328125 \nQ 53.90625 49.265625 50.4375 45.09375 \nQ 46.96875 40.921875 40.578125 39.3125 \nz\n\" id=\"DejaVuSans-51\"/>\n       </defs>\n       <use xlink:href=\"#DejaVuSans-51\"/>\n       <use x=\"63.623047\" xlink:href=\"#DejaVuSans-48\"/>\n      </g>\n     </g>\n    </g>\n   </g>\n   <g id=\"matplotlib.axis_2\">\n    <g id=\"ytick_1\">\n     <g id=\"line2d_5\">\n      <defs>\n       <path d=\"M 0 0 \nL -3.5 0 \n\" id=\"mcbdd2012da\" style=\"stroke:#000000;stroke-width:0.8;\"/>\n      </defs>\n      <g>\n       <use style=\"stroke:#000000;stroke-width:0.8;\" x=\"26.925\" xlink:href=\"#mcbdd2012da\" y=\"54.851719\"/>\n      </g>\n     </g>\n     <g id=\"text_5\">\n      <!-- 0 -->\n      <g transform=\"translate(13.5625 58.650937)scale(0.1 -0.1)\">\n       <use xlink:href=\"#DejaVuSans-48\"/>\n      </g>\n     </g>\n    </g>\n    <g id=\"ytick_2\">\n     <g id=\"line2d_6\">\n      <g>\n       <use style=\"stroke:#000000;stroke-width:0.8;\" x=\"26.925\" xlink:href=\"#mcbdd2012da\" y=\"96.701719\"/>\n      </g>\n     </g>\n     <g id=\"text_6\">\n      <!-- 10 -->\n      <g transform=\"translate(7.2 100.500938)scale(0.1 -0.1)\">\n       <use xlink:href=\"#DejaVuSans-49\"/>\n       <use x=\"63.623047\" xlink:href=\"#DejaVuSans-48\"/>\n      </g>\n     </g>\n    </g>\n    <g id=\"ytick_3\">\n     <g id=\"line2d_7\">\n      <g>\n       <use style=\"stroke:#000000;stroke-width:0.8;\" x=\"26.925\" xlink:href=\"#mcbdd2012da\" y=\"138.551719\"/>\n      </g>\n     </g>\n     <g id=\"text_7\">\n      <!-- 20 -->\n      <g transform=\"translate(7.2 142.350938)scale(0.1 -0.1)\">\n       <use xlink:href=\"#DejaVuSans-50\"/>\n       <use x=\"63.623047\" xlink:href=\"#DejaVuSans-48\"/>\n      </g>\n     </g>\n    </g>\n    <g id=\"ytick_4\">\n     <g id=\"line2d_8\">\n      <g>\n       <use style=\"stroke:#000000;stroke-width:0.8;\" x=\"26.925\" xlink:href=\"#mcbdd2012da\" y=\"180.401719\"/>\n      </g>\n     </g>\n     <g id=\"text_8\">\n      <!-- 30 -->\n      <g transform=\"translate(7.2 184.200938)scale(0.1 -0.1)\">\n       <use xlink:href=\"#DejaVuSans-51\"/>\n       <use x=\"63.623047\" xlink:href=\"#DejaVuSans-48\"/>\n      </g>\n     </g>\n    </g>\n   </g>\n   <g id=\"patch_3\">\n    <path d=\"M 26.925 186.679219 \nL 26.925 52.759219 \n\" style=\"fill:none;stroke:#000000;stroke-linecap:square;stroke-linejoin:miter;stroke-width:0.8;\"/>\n   </g>\n   <g id=\"patch_4\">\n    <path d=\"M 160.845 186.679219 \nL 160.845 52.759219 \n\" style=\"fill:none;stroke:#000000;stroke-linecap:square;stroke-linejoin:miter;stroke-width:0.8;\"/>\n   </g>\n   <g id=\"patch_5\">\n    <path d=\"M 26.925 186.679219 \nL 160.845 186.679219 \n\" style=\"fill:none;stroke:#000000;stroke-linecap:square;stroke-linejoin:miter;stroke-width:0.8;\"/>\n   </g>\n   <g id=\"patch_6\">\n    <path d=\"M 26.925 52.759219 \nL 160.845 52.759219 \n\" style=\"fill:none;stroke:#000000;stroke-linecap:square;stroke-linejoin:miter;stroke-width:0.8;\"/>\n   </g>\n  </g>\n  <g id=\"axes_2\">\n   <g id=\"patch_7\">\n    <path clip-path=\"url(#pb44be356d0)\" d=\"M 169.215 228.439219 \nL 169.215 227.589844 \nL 169.215 11.848594 \nL 169.215 10.999219 \nL 180.087 10.999219 \nL 180.087 11.848594 \nL 180.087 227.589844 \nL 180.087 228.439219 \nz\n\" style=\"fill:#ffffff;stroke:#ffffff;stroke-linejoin:miter;stroke-width:0.01;\"/>\n   </g>\n   <image height=\"218\" id=\"imagee4b6e8bc10\" transform=\"scale(1 -1)translate(0 -218)\" width=\"11\" x=\"169\" xlink:href=\"data:image/png;base64,\niVBORw0KGgoAAAANSUhEUgAAAAsAAADaCAYAAABwzrisAAABVklEQVR4nO2aQY7CQAwEx/ZkX8Yb+P9DgHDem+tQkkeCs9VqV/cESBKPfN6r+dmR0Z1de0X2hz3lRZSjitggnpN4ZsozFhxCAw2XZ8Oq6Ik0btaN9qzZuimePc6lKfdn6YIa55udQWDDKxJSFtGxuMkwCQXZOJEGXFDrM0NHlGdcN4YkeGQ3vEuBVtEhoUyh0Z9VPc+gMcTzieUfgu634D/l7J/vM9Gx0y3RACbmxO0liDjDa52lDH5dmgt6nEPzbCqT4fxYyjPQpRY3omHaAMNFLgWM8zoPXZHyIxuQhtXnPWNBpuzRCI2Gp6xxvvKt2bBoFLGxyYLFQvEWtJSvQDSQDTCMEkTKbMEZCTLOBN0VL2LDqyjqBkKn0UALklBQ3OikwAWt7xSWoGbjj1W0PUs994XXBs+Z1y7wf2lf5BlQEmVkgykTz3uB13WKvHOS4CYVup31BSgIgGq441soAAAAAElFTkSuQmCC\" y=\"-10\"/>\n   <g id=\"matplotlib.axis_3\"/>\n   <g id=\"matplotlib.axis_4\">\n    <g id=\"ytick_5\">\n     <g id=\"line2d_9\">\n      <defs>\n       <path d=\"M 0 0 \nL 3.5 0 \n\" id=\"m29a0f3e842\" style=\"stroke:#000000;stroke-width:0.8;\"/>\n      </defs>\n      <g>\n       <use style=\"stroke:#000000;stroke-width:0.8;\" x=\"180.087\" xlink:href=\"#m29a0f3e842\" y=\"228.439219\"/>\n      </g>\n     </g>\n     <g id=\"text_9\">\n      <!-- 0.0 -->\n      <g transform=\"translate(187.087 232.238437)scale(0.1 -0.1)\">\n       <defs>\n        <path d=\"M 10.6875 12.40625 \nL 21 12.40625 \nL 21 0 \nL 10.6875 0 \nz\n\" id=\"DejaVuSans-46\"/>\n       </defs>\n       <use xlink:href=\"#DejaVuSans-48\"/>\n       <use x=\"63.623047\" xlink:href=\"#DejaVuSans-46\"/>\n       <use x=\"95.410156\" xlink:href=\"#DejaVuSans-48\"/>\n      </g>\n     </g>\n    </g>\n    <g id=\"ytick_6\">\n     <g id=\"line2d_10\">\n      <g>\n       <use style=\"stroke:#000000;stroke-width:0.8;\" x=\"180.087\" xlink:href=\"#m29a0f3e842\" y=\"184.951219\"/>\n      </g>\n     </g>\n     <g id=\"text_10\">\n      <!-- 0.2 -->\n      <g transform=\"translate(187.087 188.750437)scale(0.1 -0.1)\">\n       <use xlink:href=\"#DejaVuSans-48\"/>\n       <use x=\"63.623047\" xlink:href=\"#DejaVuSans-46\"/>\n       <use x=\"95.410156\" xlink:href=\"#DejaVuSans-50\"/>\n      </g>\n     </g>\n    </g>\n    <g id=\"ytick_7\">\n     <g id=\"line2d_11\">\n      <g>\n       <use style=\"stroke:#000000;stroke-width:0.8;\" x=\"180.087\" xlink:href=\"#m29a0f3e842\" y=\"141.463219\"/>\n      </g>\n     </g>\n     <g id=\"text_11\">\n      <!-- 0.4 -->\n      <g transform=\"translate(187.087 145.262437)scale(0.1 -0.1)\">\n       <defs>\n        <path d=\"M 37.796875 64.3125 \nL 12.890625 25.390625 \nL 37.796875 25.390625 \nz\nM 35.203125 72.90625 \nL 47.609375 72.90625 \nL 47.609375 25.390625 \nL 58.015625 25.390625 \nL 58.015625 17.1875 \nL 47.609375 17.1875 \nL 47.609375 0 \nL 37.796875 0 \nL 37.796875 17.1875 \nL 4.890625 17.1875 \nL 4.890625 26.703125 \nz\n\" id=\"DejaVuSans-52\"/>\n       </defs>\n       <use xlink:href=\"#DejaVuSans-48\"/>\n       <use x=\"63.623047\" xlink:href=\"#DejaVuSans-46\"/>\n       <use x=\"95.410156\" xlink:href=\"#DejaVuSans-52\"/>\n      </g>\n     </g>\n    </g>\n    <g id=\"ytick_8\">\n     <g id=\"line2d_12\">\n      <g>\n       <use style=\"stroke:#000000;stroke-width:0.8;\" x=\"180.087\" xlink:href=\"#m29a0f3e842\" y=\"97.975219\"/>\n      </g>\n     </g>\n     <g id=\"text_12\">\n      <!-- 0.6 -->\n      <g transform=\"translate(187.087 101.774437)scale(0.1 -0.1)\">\n       <defs>\n        <path d=\"M 33.015625 40.375 \nQ 26.375 40.375 22.484375 35.828125 \nQ 18.609375 31.296875 18.609375 23.390625 \nQ 18.609375 15.53125 22.484375 10.953125 \nQ 26.375 6.390625 33.015625 6.390625 \nQ 39.65625 6.390625 43.53125 10.953125 \nQ 47.40625 15.53125 47.40625 23.390625 \nQ 47.40625 31.296875 43.53125 35.828125 \nQ 39.65625 40.375 33.015625 40.375 \nz\nM 52.59375 71.296875 \nL 52.59375 62.3125 \nQ 48.875 64.0625 45.09375 64.984375 \nQ 41.3125 65.921875 37.59375 65.921875 \nQ 27.828125 65.921875 22.671875 59.328125 \nQ 17.53125 52.734375 16.796875 39.40625 \nQ 19.671875 43.65625 24.015625 45.921875 \nQ 28.375 48.1875 33.59375 48.1875 \nQ 44.578125 48.1875 50.953125 41.515625 \nQ 57.328125 34.859375 57.328125 23.390625 \nQ 57.328125 12.15625 50.6875 5.359375 \nQ 44.046875 -1.421875 33.015625 -1.421875 \nQ 20.359375 -1.421875 13.671875 8.265625 \nQ 6.984375 17.96875 6.984375 36.375 \nQ 6.984375 53.65625 15.1875 63.9375 \nQ 23.390625 74.21875 37.203125 74.21875 \nQ 40.921875 74.21875 44.703125 73.484375 \nQ 48.484375 72.75 52.59375 71.296875 \nz\n\" id=\"DejaVuSans-54\"/>\n       </defs>\n       <use xlink:href=\"#DejaVuSans-48\"/>\n       <use x=\"63.623047\" xlink:href=\"#DejaVuSans-46\"/>\n       <use x=\"95.410156\" xlink:href=\"#DejaVuSans-54\"/>\n      </g>\n     </g>\n    </g>\n    <g id=\"ytick_9\">\n     <g id=\"line2d_13\">\n      <g>\n       <use style=\"stroke:#000000;stroke-width:0.8;\" x=\"180.087\" xlink:href=\"#m29a0f3e842\" y=\"54.487219\"/>\n      </g>\n     </g>\n     <g id=\"text_13\">\n      <!-- 0.8 -->\n      <g transform=\"translate(187.087 58.286437)scale(0.1 -0.1)\">\n       <defs>\n        <path d=\"M 31.78125 34.625 \nQ 24.75 34.625 20.71875 30.859375 \nQ 16.703125 27.09375 16.703125 20.515625 \nQ 16.703125 13.921875 20.71875 10.15625 \nQ 24.75 6.390625 31.78125 6.390625 \nQ 38.8125 6.390625 42.859375 10.171875 \nQ 46.921875 13.96875 46.921875 20.515625 \nQ 46.921875 27.09375 42.890625 30.859375 \nQ 38.875 34.625 31.78125 34.625 \nz\nM 21.921875 38.8125 \nQ 15.578125 40.375 12.03125 44.71875 \nQ 8.5 49.078125 8.5 55.328125 \nQ 8.5 64.0625 14.71875 69.140625 \nQ 20.953125 74.21875 31.78125 74.21875 \nQ 42.671875 74.21875 48.875 69.140625 \nQ 55.078125 64.0625 55.078125 55.328125 \nQ 55.078125 49.078125 51.53125 44.71875 \nQ 48 40.375 41.703125 38.8125 \nQ 48.828125 37.15625 52.796875 32.3125 \nQ 56.78125 27.484375 56.78125 20.515625 \nQ 56.78125 9.90625 50.3125 4.234375 \nQ 43.84375 -1.421875 31.78125 -1.421875 \nQ 19.734375 -1.421875 13.25 4.234375 \nQ 6.78125 9.90625 6.78125 20.515625 \nQ 6.78125 27.484375 10.78125 32.3125 \nQ 14.796875 37.15625 21.921875 38.8125 \nz\nM 18.3125 54.390625 \nQ 18.3125 48.734375 21.84375 45.5625 \nQ 25.390625 42.390625 31.78125 42.390625 \nQ 38.140625 42.390625 41.71875 45.5625 \nQ 45.3125 48.734375 45.3125 54.390625 \nQ 45.3125 60.0625 41.71875 63.234375 \nQ 38.140625 66.40625 31.78125 66.40625 \nQ 25.390625 66.40625 21.84375 63.234375 \nQ 18.3125 60.0625 18.3125 54.390625 \nz\n\" id=\"DejaVuSans-56\"/>\n       </defs>\n       <use xlink:href=\"#DejaVuSans-48\"/>\n       <use x=\"63.623047\" xlink:href=\"#DejaVuSans-46\"/>\n       <use x=\"95.410156\" xlink:href=\"#DejaVuSans-56\"/>\n      </g>\n     </g>\n    </g>\n    <g id=\"ytick_10\">\n     <g id=\"line2d_14\">\n      <g>\n       <use style=\"stroke:#000000;stroke-width:0.8;\" x=\"180.087\" xlink:href=\"#m29a0f3e842\" y=\"10.999219\"/>\n      </g>\n     </g>\n     <g id=\"text_14\">\n      <!-- 1.0 -->\n      <g transform=\"translate(187.087 14.798437)scale(0.1 -0.1)\">\n       <use xlink:href=\"#DejaVuSans-49\"/>\n       <use x=\"63.623047\" xlink:href=\"#DejaVuSans-46\"/>\n       <use x=\"95.410156\" xlink:href=\"#DejaVuSans-48\"/>\n      </g>\n     </g>\n    </g>\n   </g>\n   <g id=\"patch_8\">\n    <path d=\"M 169.215 228.439219 \nL 169.215 227.589844 \nL 169.215 11.848594 \nL 169.215 10.999219 \nL 180.087 10.999219 \nL 180.087 11.848594 \nL 180.087 227.589844 \nL 180.087 228.439219 \nz\n\" style=\"fill:none;stroke:#000000;stroke-linejoin:miter;stroke-width:0.8;\"/>\n   </g>\n  </g>\n </g>\n <defs>\n  <clipPath id=\"p41eb6f3fda\">\n   <rect height=\"133.92\" width=\"133.92\" x=\"26.925\" y=\"52.759219\"/>\n  </clipPath>\n  <clipPath id=\"pb44be356d0\">\n   <rect height=\"217.44\" width=\"10.872\" x=\"169.215\" y=\"10.999219\"/>\n  </clipPath>\n </defs>\n</svg>\n",
      "image/png": "[encoded data removed]"
     },
     "metadata": {
      "needs_background": "light"
     }
    }
   ],
   "source": [
    "plt.figure(figsize=(3,4))\n",
    "img = ((img - img.min())/(img.max() - img.min()))\n",
    "plt.imshow(img)\n",
    "plt.colorbar()\n",
    "\n"
   ]
  },
  {
   "cell_type": "code",
   "execution_count": null,
   "metadata": {},
   "outputs": [],
   "source": []
  }
 ]
}