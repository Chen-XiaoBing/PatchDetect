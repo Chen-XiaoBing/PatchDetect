{
 "metadata": {
  "language_info": {
   "codemirror_mode": {
    "name": "ipython",
    "version": 3
   },
   "file_extension": ".py",
   "mimetype": "text/x-python",
   "name": "python",
   "nbconvert_exporter": "python",
   "pygments_lexer": "ipython3",
   "version": "3.7.7-final"
  },
  "orig_nbformat": 2,
  "kernelspec": {
   "name": "python37764bitopenmmlabconda8b303c584c604ca99f71b49f81978ded",
   "display_name": "Python 3.7.7 64-bit ('open-mmlab': conda)"
  }
 },
 "nbformat": 4,
 "nbformat_minor": 2,
 "cells": [
  {
   "cell_type": "code",
   "execution_count": 1,
   "metadata": {},
   "outputs": [],
   "source": [
    "import os\n",
    "import re\n",
    "import pdb\n",
    "import torch\n",
    "import logging\n",
    "import numpy as np\n",
    "\n",
    "import torch.nn.functional as F\n",
    "\n",
    "from tqdm import tqdm, trange\n",
    "from glob import glob\n",
    "from mylogger import get_mylogger\n",
    "from image_specific_attack import create_model"
   ]
  },
  {
   "cell_type": "code",
   "execution_count": 4,
   "metadata": {},
   "outputs": [],
   "source": [
    "def load_image(image_path: str):\n",
    "    filename = glob(image_path+\"*.pth\")\n",
    "    adv_examples = []\n",
    "    labels = []\n",
    "    for file in tqdm(filename[0:1000]):\n",
    "        adv_example = torch.load(file)\n",
    "        adv_examples.append(adv_example)\n",
    "\n",
    "        label = int(re.split('_|\\.', file)[-2])\n",
    "        labels.append(label)\n",
    "\n",
    "    return adv_examples, labels\n",
    "    "
   ]
  },
  {
   "cell_type": "code",
   "execution_count": 3,
   "metadata": {},
   "outputs": [
    {
     "output_type": "stream",
     "name": "stdout",
     "text": [
      "=> creating model \n",
      "100%|██████████| 1000/1000 [00:06<00:00, 159.53it/s]\n"
     ]
    }
   ],
   "source": [
    "# log_path = \"./log/detect\"\n",
    "# os.makedirs(log_path, exist_ok=True)\n",
    "# logger = get_mylogger(log_path)\n",
    "\n",
    "patch_size = 7\n",
    "model = create_model(\n",
    "    'ResNet18', './result/models/ResNet18_{}/model_best.pth.tar'.format(patch_size)).eval()\n",
    "\n",
    "adv_example_path = 'result/attack/image_specific/ResNet18/ResNet18_{}/patched/'.format(\n",
    "    patch_size)\n",
    "adv_examples, labels = load_image(adv_example_path)"
   ]
  },
  {
   "cell_type": "code",
   "execution_count": 5,
   "metadata": {},
   "outputs": [],
   "source": [
    "def compute_normal_acc(model, adv_examples, labels):\n",
    "    normal_acc = 0\n",
    "    for i in trange(len(adv_examples)):\n",
    "        adv_example = adv_examples[i]\n",
    "        label = labels[i]\n",
    "\n",
    "        adv_out = F.log_softmax(model(adv_example), dim=1)\n",
    "        adv_out_probs, adv_out_labels = adv_out.max(1)\n",
    "        # have already set the target label to 5.\n",
    "        if adv_out_labels == label:\n",
    "            normal_acc += 1\n",
    "    print(\"\\nnormal acc: \", normal_acc/len(adv_examples))\n",
    "\n",
    "def compute_attack_acc(model, adv_examples, labels):\n",
    "    attack_acc = 0\n",
    "    for i in trange(len(adv_examples)):\n",
    "        adv_example = adv_examples[i]\n",
    "        label = labels[i]\n",
    "\n",
    "        adv_out = F.log_softmax(model(adv_example), dim=1)\n",
    "        adv_out_probs, adv_out_labels = adv_out.max(1)\n",
    "        # have already set the target label to 5.\n",
    "        if adv_out_labels == 5:\n",
    "            attack_acc += 1\n",
    "    print(\"\\nattack acc: \", attack_acc/len(adv_examples))"
   ]
  },
  {
   "cell_type": "code",
   "execution_count": 6,
   "metadata": {},
   "outputs": [
    {
     "output_type": "stream",
     "name": "stderr",
     "text": [
      "100%|██████████| 1000/1000 [00:06<00:00, 157.29it/s]\n",
      "normal acc:  0.397\n",
      "\n"
     ]
    }
   ],
   "source": [
    "compute_normal_acc(model, adv_examples, labels)"
   ]
  },
  {
   "cell_type": "code",
   "execution_count": 44,
   "metadata": {},
   "outputs": [],
   "source": [
    "def detect_patch(model, adv_example):\n",
    "    output = model.module.conv1(adv_example)\n",
    "    output = output.sum(axis = 1)\n",
    "    topk = 115\n",
    "    tmp_output = output.reshape(-1)\n",
    "    topk_value = tmp_output[torch.topk(tmp_output,topk)[1][-1]]\n",
    "    tmp_output = torch.relu(torch.sign(output-topk_value))\n",
    "    all_one_conv = torch.nn.Conv2d(1,1,7)\n",
    "    all_one_conv.weight.data = torch.ones((1,1,7,7))\n",
    "    all_one_conv.bias.data = torch.zeros(1) \n",
    "    a = all_one_conv(tmp_output.unsqueeze(0).to(torch.device('cpu')))\n",
    "    return a"
   ]
  },
  {
   "cell_type": "code",
   "execution_count": 59,
   "metadata": {},
   "outputs": [
    {
     "output_type": "stream",
     "name": "stderr",
     "text": [
      "UsageError: Line magic function `%inline` not found.\n"
     ]
    }
   ],
   "source": [
    "import matplotlib.pyplot as plt\n",
    "%inline matplotlib"
   ]
  },
  {
   "cell_type": "code",
   "execution_count": 92,
   "metadata": {},
   "outputs": [
    {
     "output_type": "execute_result",
     "data": {
      "text/plain": [
       "<matplotlib.image.AxesImage at 0x7f0a36c5ded0>"
      ]
     },
     "metadata": {},
     "execution_count": 92
    },
    {
     "output_type": "display_data",
     "data": {
      "text/plain": "<Figure size 432x288 with 1 Axes>",
      "image/svg+xml": "<?xml version=\"1.0\" encoding=\"utf-8\" standalone=\"no\"?>\n<!DOCTYPE svg PUBLIC \"-//W3C//DTD SVG 1.1//EN\"\n  \"http://www.w3.org/Graphics/SVG/1.1/DTD/svg11.dtd\">\n<!-- Created with matplotlib (https://matplotlib.org/) -->\n<svg height=\"248.518125pt\" version=\"1.1\" viewBox=\"0 0 253.745962 248.518125\" width=\"253.745962pt\" xmlns=\"http://www.w3.org/2000/svg\" xmlns:xlink=\"http://www.w3.org/1999/xlink\">\n <metadata>\n  <rdf:RDF xmlns:cc=\"http://creativecommons.org/ns#\" xmlns:dc=\"http://purl.org/dc/elements/1.1/\" xmlns:rdf=\"http://www.w3.org/1999/02/22-rdf-syntax-ns#\">\n   <cc:Work>\n    <dc:type rdf:resource=\"http://purl.org/dc/dcmitype/StillImage\"/>\n    <dc:date>2020-11-06T17:09:51.774968</dc:date>\n    <dc:format>image/svg+xml</dc:format>\n    <dc:creator>\n     <cc:Agent>\n      <dc:title>Matplotlib v3.3.0, https://matplotlib.org/</dc:title>\n     </cc:Agent>\n    </dc:creator>\n   </cc:Work>\n  </rdf:RDF>\n </metadata>\n <defs>\n  <style type=\"text/css\">*{stroke-linecap:butt;stroke-linejoin:round;}</style>\n </defs>\n <g id=\"figure_1\">\n  <g id=\"patch_1\">\n   <path d=\"M 0 248.518125 \nL 253.745962 248.518125 \nL 253.745962 0 \nL 0 0 \nz\n\" style=\"fill:none;\"/>\n  </g>\n  <g id=\"axes_1\">\n   <g id=\"patch_2\">\n    <path d=\"M 26.925 224.64 \nL 244.365 224.64 \nL 244.365 7.2 \nL 26.925 7.2 \nz\n\" style=\"fill:#ffffff;\"/>\n   </g>\n   <g clip-path=\"url(#p705ead2431)\">\n    <image height=\"218\" id=\"image1d84d05606\" transform=\"scale(1 -1)translate(0 -218)\" width=\"218\" x=\"26.925\" xlink:href=\"data:image/png;base64,\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\" y=\"-6.64\"/>\n   </g>\n   <g id=\"matplotlib.axis_1\">\n    <g id=\"xtick_1\">\n     <g id=\"line2d_1\">\n      <defs>\n       <path d=\"M 0 0 \nL 0 3.5 \n\" id=\"m6dd71f5a80\" style=\"stroke:#000000;stroke-width:0.8;\"/>\n      </defs>\n      <g>\n       <use style=\"stroke:#000000;stroke-width:0.8;\" x=\"31.106538\" xlink:href=\"#m6dd71f5a80\" y=\"224.64\"/>\n      </g>\n     </g>\n     <g id=\"text_1\">\n      <!-- 0 -->\n      <g transform=\"translate(27.925288 239.238437)scale(0.1 -0.1)\">\n       <defs>\n        <path d=\"M 31.78125 66.40625 \nQ 24.171875 66.40625 20.328125 58.90625 \nQ 16.5 51.421875 16.5 36.375 \nQ 16.5 21.390625 20.328125 13.890625 \nQ 24.171875 6.390625 31.78125 6.390625 \nQ 39.453125 6.390625 43.28125 13.890625 \nQ 47.125 21.390625 47.125 36.375 \nQ 47.125 51.421875 43.28125 58.90625 \nQ 39.453125 66.40625 31.78125 66.40625 \nz\nM 31.78125 74.21875 \nQ 44.046875 74.21875 50.515625 64.515625 \nQ 56.984375 54.828125 56.984375 36.375 \nQ 56.984375 17.96875 50.515625 8.265625 \nQ 44.046875 -1.421875 31.78125 -1.421875 \nQ 19.53125 -1.421875 13.0625 8.265625 \nQ 6.59375 17.96875 6.59375 36.375 \nQ 6.59375 54.828125 13.0625 64.515625 \nQ 19.53125 74.21875 31.78125 74.21875 \nz\n\" id=\"DejaVuSans-48\"/>\n       </defs>\n       <use xlink:href=\"#DejaVuSans-48\"/>\n      </g>\n     </g>\n    </g>\n    <g id=\"xtick_2\">\n     <g id=\"line2d_2\">\n      <g>\n       <use style=\"stroke:#000000;stroke-width:0.8;\" x=\"72.921923\" xlink:href=\"#m6dd71f5a80\" y=\"224.64\"/>\n      </g>\n     </g>\n     <g id=\"text_2\">\n      <!-- 5 -->\n      <g transform=\"translate(69.740673 239.238437)scale(0.1 -0.1)\">\n       <defs>\n        <path d=\"M 10.796875 72.90625 \nL 49.515625 72.90625 \nL 49.515625 64.59375 \nL 19.828125 64.59375 \nL 19.828125 46.734375 \nQ 21.96875 47.46875 24.109375 47.828125 \nQ 26.265625 48.1875 28.421875 48.1875 \nQ 40.625 48.1875 47.75 41.5 \nQ 54.890625 34.8125 54.890625 23.390625 \nQ 54.890625 11.625 47.5625 5.09375 \nQ 40.234375 -1.421875 26.90625 -1.421875 \nQ 22.3125 -1.421875 17.546875 -0.640625 \nQ 12.796875 0.140625 7.71875 1.703125 \nL 7.71875 11.625 \nQ 12.109375 9.234375 16.796875 8.0625 \nQ 21.484375 6.890625 26.703125 6.890625 \nQ 35.15625 6.890625 40.078125 11.328125 \nQ 45.015625 15.765625 45.015625 23.390625 \nQ 45.015625 31 40.078125 35.4375 \nQ 35.15625 39.890625 26.703125 39.890625 \nQ 22.75 39.890625 18.8125 39.015625 \nQ 14.890625 38.140625 10.796875 36.28125 \nz\n\" id=\"DejaVuSans-53\"/>\n       </defs>\n       <use xlink:href=\"#DejaVuSans-53\"/>\n      </g>\n     </g>\n    </g>\n    <g id=\"xtick_3\">\n     <g id=\"line2d_3\">\n      <g>\n       <use style=\"stroke:#000000;stroke-width:0.8;\" x=\"114.737308\" xlink:href=\"#m6dd71f5a80\" y=\"224.64\"/>\n      </g>\n     </g>\n     <g id=\"text_3\">\n      <!-- 10 -->\n      <g transform=\"translate(108.374808 239.238437)scale(0.1 -0.1)\">\n       <defs>\n        <path d=\"M 12.40625 8.296875 \nL 28.515625 8.296875 \nL 28.515625 63.921875 \nL 10.984375 60.40625 \nL 10.984375 69.390625 \nL 28.421875 72.90625 \nL 38.28125 72.90625 \nL 38.28125 8.296875 \nL 54.390625 8.296875 \nL 54.390625 0 \nL 12.40625 0 \nz\n\" id=\"DejaVuSans-49\"/>\n       </defs>\n       <use xlink:href=\"#DejaVuSans-49\"/>\n       <use x=\"63.623047\" xlink:href=\"#DejaVuSans-48\"/>\n      </g>\n     </g>\n    </g>\n    <g id=\"xtick_4\">\n     <g id=\"line2d_4\">\n      <g>\n       <use style=\"stroke:#000000;stroke-width:0.8;\" x=\"156.552692\" xlink:href=\"#m6dd71f5a80\" y=\"224.64\"/>\n      </g>\n     </g>\n     <g id=\"text_4\">\n      <!-- 15 -->\n      <g transform=\"translate(150.190192 239.238437)scale(0.1 -0.1)\">\n       <use xlink:href=\"#DejaVuSans-49\"/>\n       <use x=\"63.623047\" xlink:href=\"#DejaVuSans-53\"/>\n      </g>\n     </g>\n    </g>\n    <g id=\"xtick_5\">\n     <g id=\"line2d_5\">\n      <g>\n       <use style=\"stroke:#000000;stroke-width:0.8;\" x=\"198.368077\" xlink:href=\"#m6dd71f5a80\" y=\"224.64\"/>\n      </g>\n     </g>\n     <g id=\"text_5\">\n      <!-- 20 -->\n      <g transform=\"translate(192.005577 239.238437)scale(0.1 -0.1)\">\n       <defs>\n        <path d=\"M 19.1875 8.296875 \nL 53.609375 8.296875 \nL 53.609375 0 \nL 7.328125 0 \nL 7.328125 8.296875 \nQ 12.9375 14.109375 22.625 23.890625 \nQ 32.328125 33.6875 34.8125 36.53125 \nQ 39.546875 41.84375 41.421875 45.53125 \nQ 43.3125 49.21875 43.3125 52.78125 \nQ 43.3125 58.59375 39.234375 62.25 \nQ 35.15625 65.921875 28.609375 65.921875 \nQ 23.96875 65.921875 18.8125 64.3125 \nQ 13.671875 62.703125 7.8125 59.421875 \nL 7.8125 69.390625 \nQ 13.765625 71.78125 18.9375 73 \nQ 24.125 74.21875 28.421875 74.21875 \nQ 39.75 74.21875 46.484375 68.546875 \nQ 53.21875 62.890625 53.21875 53.421875 \nQ 53.21875 48.921875 51.53125 44.890625 \nQ 49.859375 40.875 45.40625 35.40625 \nQ 44.1875 33.984375 37.640625 27.21875 \nQ 31.109375 20.453125 19.1875 8.296875 \nz\n\" id=\"DejaVuSans-50\"/>\n       </defs>\n       <use xlink:href=\"#DejaVuSans-50\"/>\n       <use x=\"63.623047\" xlink:href=\"#DejaVuSans-48\"/>\n      </g>\n     </g>\n    </g>\n    <g id=\"xtick_6\">\n     <g id=\"line2d_6\">\n      <g>\n       <use style=\"stroke:#000000;stroke-width:0.8;\" x=\"240.183462\" xlink:href=\"#m6dd71f5a80\" y=\"224.64\"/>\n      </g>\n     </g>\n     <g id=\"text_6\">\n      <!-- 25 -->\n      <g transform=\"translate(233.820962 239.238437)scale(0.1 -0.1)\">\n       <use xlink:href=\"#DejaVuSans-50\"/>\n       <use x=\"63.623047\" xlink:href=\"#DejaVuSans-53\"/>\n      </g>\n     </g>\n    </g>\n   </g>\n   <g id=\"matplotlib.axis_2\">\n    <g id=\"ytick_1\">\n     <g id=\"line2d_7\">\n      <defs>\n       <path d=\"M 0 0 \nL -3.5 0 \n\" id=\"me40c80ad9d\" style=\"stroke:#000000;stroke-width:0.8;\"/>\n      </defs>\n      <g>\n       <use style=\"stroke:#000000;stroke-width:0.8;\" x=\"26.925\" xlink:href=\"#me40c80ad9d\" y=\"11.381538\"/>\n      </g>\n     </g>\n     <g id=\"text_7\">\n      <!-- 0 -->\n      <g transform=\"translate(13.5625 15.180757)scale(0.1 -0.1)\">\n       <use xlink:href=\"#DejaVuSans-48\"/>\n      </g>\n     </g>\n    </g>\n    <g id=\"ytick_2\">\n     <g id=\"line2d_8\">\n      <g>\n       <use style=\"stroke:#000000;stroke-width:0.8;\" x=\"26.925\" xlink:href=\"#me40c80ad9d\" y=\"53.196923\"/>\n      </g>\n     </g>\n     <g id=\"text_8\">\n      <!-- 5 -->\n      <g transform=\"translate(13.5625 56.996142)scale(0.1 -0.1)\">\n       <use xlink:href=\"#DejaVuSans-53\"/>\n      </g>\n     </g>\n    </g>\n    <g id=\"ytick_3\">\n     <g id=\"line2d_9\">\n      <g>\n       <use style=\"stroke:#000000;stroke-width:0.8;\" x=\"26.925\" xlink:href=\"#me40c80ad9d\" y=\"95.012308\"/>\n      </g>\n     </g>\n     <g id=\"text_9\">\n      <!-- 10 -->\n      <g transform=\"translate(7.2 98.811526)scale(0.1 -0.1)\">\n       <use xlink:href=\"#DejaVuSans-49\"/>\n       <use x=\"63.623047\" xlink:href=\"#DejaVuSans-48\"/>\n      </g>\n     </g>\n    </g>\n    <g id=\"ytick_4\">\n     <g id=\"line2d_10\">\n      <g>\n       <use style=\"stroke:#000000;stroke-width:0.8;\" x=\"26.925\" xlink:href=\"#me40c80ad9d\" y=\"136.827692\"/>\n      </g>\n     </g>\n     <g id=\"text_10\">\n      <!-- 15 -->\n      <g transform=\"translate(7.2 140.626911)scale(0.1 -0.1)\">\n       <use xlink:href=\"#DejaVuSans-49\"/>\n       <use x=\"63.623047\" xlink:href=\"#DejaVuSans-53\"/>\n      </g>\n     </g>\n    </g>\n    <g id=\"ytick_5\">\n     <g id=\"line2d_11\">\n      <g>\n       <use style=\"stroke:#000000;stroke-width:0.8;\" x=\"26.925\" xlink:href=\"#me40c80ad9d\" y=\"178.643077\"/>\n      </g>\n     </g>\n     <g id=\"text_11\">\n      <!-- 20 -->\n      <g transform=\"translate(7.2 182.442296)scale(0.1 -0.1)\">\n       <use xlink:href=\"#DejaVuSans-50\"/>\n       <use x=\"63.623047\" xlink:href=\"#DejaVuSans-48\"/>\n      </g>\n     </g>\n    </g>\n    <g id=\"ytick_6\">\n     <g id=\"line2d_12\">\n      <g>\n       <use style=\"stroke:#000000;stroke-width:0.8;\" x=\"26.925\" xlink:href=\"#me40c80ad9d\" y=\"220.458462\"/>\n      </g>\n     </g>\n     <g id=\"text_12\">\n      <!-- 25 -->\n      <g transform=\"translate(7.2 224.25768)scale(0.1 -0.1)\">\n       <use xlink:href=\"#DejaVuSans-50\"/>\n       <use x=\"63.623047\" xlink:href=\"#DejaVuSans-53\"/>\n      </g>\n     </g>\n    </g>\n   </g>\n   <g id=\"patch_3\">\n    <path d=\"M 26.925 224.64 \nL 26.925 7.2 \n\" style=\"fill:none;stroke:#000000;stroke-linecap:square;stroke-linejoin:miter;stroke-width:0.8;\"/>\n   </g>\n   <g id=\"patch_4\">\n    <path d=\"M 244.365 224.64 \nL 244.365 7.2 \n\" style=\"fill:none;stroke:#000000;stroke-linecap:square;stroke-linejoin:miter;stroke-width:0.8;\"/>\n   </g>\n   <g id=\"patch_5\">\n    <path d=\"M 26.925 224.64 \nL 244.365 224.64 \n\" style=\"fill:none;stroke:#000000;stroke-linecap:square;stroke-linejoin:miter;stroke-width:0.8;\"/>\n   </g>\n   <g id=\"patch_6\">\n    <path d=\"M 26.925 7.2 \nL 244.365 7.2 \n\" style=\"fill:none;stroke:#000000;stroke-linecap:square;stroke-linejoin:miter;stroke-width:0.8;\"/>\n   </g>\n  </g>\n </g>\n <defs>\n  <clipPath id=\"p705ead2431\">\n   <rect height=\"217.44\" width=\"217.44\" x=\"26.925\" y=\"7.2\"/>\n  </clipPath>\n </defs>\n</svg>\n",
      "image/png": "[encoded data removed]"
     },
     "metadata": {
      "needs_background": "light"
     }
    }
   ],
   "source": [
    "a = detect_patch(model, adv_examples[13])\n",
    "plt.imshow(a.squeeze(0).squeeze(0).detach().numpy())"
   ]
  },
  {
   "cell_type": "code",
   "execution_count": 93,
   "metadata": {},
   "outputs": [
    {
     "output_type": "stream",
     "name": "stderr",
     "text": [
      "100%|██████████| 1000/1000 [00:01<00:00, 634.19it/s]\n"
     ]
    }
   ],
   "source": [
    "clean_example_path = 'result/attack/image_specific/ResNet18/ResNet18_{}/ori/'.format(\n",
    "    patch_size)\n",
    "clean_examples, labels = load_image(clean_example_path)\n"
   ]
  },
  {
   "cell_type": "code",
   "execution_count": 86,
   "metadata": {},
   "outputs": [
    {
     "output_type": "execute_result",
     "data": {
      "text/plain": [
       "<matplotlib.image.AxesImage at 0x7f0a36e13910>"
      ]
     },
     "metadata": {},
     "execution_count": 86
    },
    {
     "output_type": "display_data",
     "data": {
      "text/plain": "<Figure size 432x288 with 1 Axes>",
      "image/svg+xml": "<?xml version=\"1.0\" encoding=\"utf-8\" standalone=\"no\"?>\n<!DOCTYPE svg PUBLIC \"-//W3C//DTD SVG 1.1//EN\"\n  \"http://www.w3.org/Graphics/SVG/1.1/DTD/svg11.dtd\">\n<!-- Created with matplotlib (https://matplotlib.org/) -->\n<svg height=\"248.518125pt\" version=\"1.1\" viewBox=\"0 0 253.745962 248.518125\" width=\"253.745962pt\" xmlns=\"http://www.w3.org/2000/svg\" xmlns:xlink=\"http://www.w3.org/1999/xlink\">\n <metadata>\n  <rdf:RDF xmlns:cc=\"http://creativecommons.org/ns#\" xmlns:dc=\"http://purl.org/dc/elements/1.1/\" xmlns:rdf=\"http://www.w3.org/1999/02/22-rdf-syntax-ns#\">\n   <cc:Work>\n    <dc:type rdf:resource=\"http://purl.org/dc/dcmitype/StillImage\"/>\n    <dc:date>2020-11-06T16:59:06.194026</dc:date>\n    <dc:format>image/svg+xml</dc:format>\n    <dc:creator>\n     <cc:Agent>\n      <dc:title>Matplotlib v3.3.0, https://matplotlib.org/</dc:title>\n     </cc:Agent>\n    </dc:creator>\n   </cc:Work>\n  </rdf:RDF>\n </metadata>\n <defs>\n  <style type=\"text/css\">*{stroke-linecap:butt;stroke-linejoin:round;}</style>\n </defs>\n <g id=\"figure_1\">\n  <g id=\"patch_1\">\n   <path d=\"M 0 248.518125 \nL 253.745962 248.518125 \nL 253.745962 0 \nL 0 0 \nz\n\" style=\"fill:none;\"/>\n  </g>\n  <g id=\"axes_1\">\n   <g id=\"patch_2\">\n    <path d=\"M 26.925 224.64 \nL 244.365 224.64 \nL 244.365 7.2 \nL 26.925 7.2 \nz\n\" style=\"fill:#ffffff;\"/>\n   </g>\n   <g clip-path=\"url(#pd26820e4b2)\">\n    <image height=\"218\" id=\"image7690c2f5a2\" transform=\"scale(1 -1)translate(0 -218)\" width=\"218\" x=\"26.925\" xlink:href=\"data:image/png;base64,\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\" y=\"-6.64\"/>\n   </g>\n   <g id=\"matplotlib.axis_1\">\n    <g id=\"xtick_1\">\n     <g id=\"line2d_1\">\n      <defs>\n       <path d=\"M 0 0 \nL 0 3.5 \n\" id=\"m4c4f104599\" style=\"stroke:#000000;stroke-width:0.8;\"/>\n      </defs>\n      <g>\n       <use style=\"stroke:#000000;stroke-width:0.8;\" x=\"31.106538\" xlink:href=\"#m4c4f104599\" y=\"224.64\"/>\n      </g>\n     </g>\n     <g id=\"text_1\">\n      <!-- 0 -->\n      <g transform=\"translate(27.925288 239.238437)scale(0.1 -0.1)\">\n       <defs>\n        <path d=\"M 31.78125 66.40625 \nQ 24.171875 66.40625 20.328125 58.90625 \nQ 16.5 51.421875 16.5 36.375 \nQ 16.5 21.390625 20.328125 13.890625 \nQ 24.171875 6.390625 31.78125 6.390625 \nQ 39.453125 6.390625 43.28125 13.890625 \nQ 47.125 21.390625 47.125 36.375 \nQ 47.125 51.421875 43.28125 58.90625 \nQ 39.453125 66.40625 31.78125 66.40625 \nz\nM 31.78125 74.21875 \nQ 44.046875 74.21875 50.515625 64.515625 \nQ 56.984375 54.828125 56.984375 36.375 \nQ 56.984375 17.96875 50.515625 8.265625 \nQ 44.046875 -1.421875 31.78125 -1.421875 \nQ 19.53125 -1.421875 13.0625 8.265625 \nQ 6.59375 17.96875 6.59375 36.375 \nQ 6.59375 54.828125 13.0625 64.515625 \nQ 19.53125 74.21875 31.78125 74.21875 \nz\n\" id=\"DejaVuSans-48\"/>\n       </defs>\n       <use xlink:href=\"#DejaVuSans-48\"/>\n      </g>\n     </g>\n    </g>\n    <g id=\"xtick_2\">\n     <g id=\"line2d_2\">\n      <g>\n       <use style=\"stroke:#000000;stroke-width:0.8;\" x=\"72.921923\" xlink:href=\"#m4c4f104599\" y=\"224.64\"/>\n      </g>\n     </g>\n     <g id=\"text_2\">\n      <!-- 5 -->\n      <g transform=\"translate(69.740673 239.238437)scale(0.1 -0.1)\">\n       <defs>\n        <path d=\"M 10.796875 72.90625 \nL 49.515625 72.90625 \nL 49.515625 64.59375 \nL 19.828125 64.59375 \nL 19.828125 46.734375 \nQ 21.96875 47.46875 24.109375 47.828125 \nQ 26.265625 48.1875 28.421875 48.1875 \nQ 40.625 48.1875 47.75 41.5 \nQ 54.890625 34.8125 54.890625 23.390625 \nQ 54.890625 11.625 47.5625 5.09375 \nQ 40.234375 -1.421875 26.90625 -1.421875 \nQ 22.3125 -1.421875 17.546875 -0.640625 \nQ 12.796875 0.140625 7.71875 1.703125 \nL 7.71875 11.625 \nQ 12.109375 9.234375 16.796875 8.0625 \nQ 21.484375 6.890625 26.703125 6.890625 \nQ 35.15625 6.890625 40.078125 11.328125 \nQ 45.015625 15.765625 45.015625 23.390625 \nQ 45.015625 31 40.078125 35.4375 \nQ 35.15625 39.890625 26.703125 39.890625 \nQ 22.75 39.890625 18.8125 39.015625 \nQ 14.890625 38.140625 10.796875 36.28125 \nz\n\" id=\"DejaVuSans-53\"/>\n       </defs>\n       <use xlink:href=\"#DejaVuSans-53\"/>\n      </g>\n     </g>\n    </g>\n    <g id=\"xtick_3\">\n     <g id=\"line2d_3\">\n      <g>\n       <use style=\"stroke:#000000;stroke-width:0.8;\" x=\"114.737308\" xlink:href=\"#m4c4f104599\" y=\"224.64\"/>\n      </g>\n     </g>\n     <g id=\"text_3\">\n      <!-- 10 -->\n      <g transform=\"translate(108.374808 239.238437)scale(0.1 -0.1)\">\n       <defs>\n        <path d=\"M 12.40625 8.296875 \nL 28.515625 8.296875 \nL 28.515625 63.921875 \nL 10.984375 60.40625 \nL 10.984375 69.390625 \nL 28.421875 72.90625 \nL 38.28125 72.90625 \nL 38.28125 8.296875 \nL 54.390625 8.296875 \nL 54.390625 0 \nL 12.40625 0 \nz\n\" id=\"DejaVuSans-49\"/>\n       </defs>\n       <use xlink:href=\"#DejaVuSans-49\"/>\n       <use x=\"63.623047\" xlink:href=\"#DejaVuSans-48\"/>\n      </g>\n     </g>\n    </g>\n    <g id=\"xtick_4\">\n     <g id=\"line2d_4\">\n      <g>\n       <use style=\"stroke:#000000;stroke-width:0.8;\" x=\"156.552692\" xlink:href=\"#m4c4f104599\" y=\"224.64\"/>\n      </g>\n     </g>\n     <g id=\"text_4\">\n      <!-- 15 -->\n      <g transform=\"translate(150.190192 239.238437)scale(0.1 -0.1)\">\n       <use xlink:href=\"#DejaVuSans-49\"/>\n       <use x=\"63.623047\" xlink:href=\"#DejaVuSans-53\"/>\n      </g>\n     </g>\n    </g>\n    <g id=\"xtick_5\">\n     <g id=\"line2d_5\">\n      <g>\n       <use style=\"stroke:#000000;stroke-width:0.8;\" x=\"198.368077\" xlink:href=\"#m4c4f104599\" y=\"224.64\"/>\n      </g>\n     </g>\n     <g id=\"text_5\">\n      <!-- 20 -->\n      <g transform=\"translate(192.005577 239.238437)scale(0.1 -0.1)\">\n       <defs>\n        <path d=\"M 19.1875 8.296875 \nL 53.609375 8.296875 \nL 53.609375 0 \nL 7.328125 0 \nL 7.328125 8.296875 \nQ 12.9375 14.109375 22.625 23.890625 \nQ 32.328125 33.6875 34.8125 36.53125 \nQ 39.546875 41.84375 41.421875 45.53125 \nQ 43.3125 49.21875 43.3125 52.78125 \nQ 43.3125 58.59375 39.234375 62.25 \nQ 35.15625 65.921875 28.609375 65.921875 \nQ 23.96875 65.921875 18.8125 64.3125 \nQ 13.671875 62.703125 7.8125 59.421875 \nL 7.8125 69.390625 \nQ 13.765625 71.78125 18.9375 73 \nQ 24.125 74.21875 28.421875 74.21875 \nQ 39.75 74.21875 46.484375 68.546875 \nQ 53.21875 62.890625 53.21875 53.421875 \nQ 53.21875 48.921875 51.53125 44.890625 \nQ 49.859375 40.875 45.40625 35.40625 \nQ 44.1875 33.984375 37.640625 27.21875 \nQ 31.109375 20.453125 19.1875 8.296875 \nz\n\" id=\"DejaVuSans-50\"/>\n       </defs>\n       <use xlink:href=\"#DejaVuSans-50\"/>\n       <use x=\"63.623047\" xlink:href=\"#DejaVuSans-48\"/>\n      </g>\n     </g>\n    </g>\n    <g id=\"xtick_6\">\n     <g id=\"line2d_6\">\n      <g>\n       <use style=\"stroke:#000000;stroke-width:0.8;\" x=\"240.183462\" xlink:href=\"#m4c4f104599\" y=\"224.64\"/>\n      </g>\n     </g>\n     <g id=\"text_6\">\n      <!-- 25 -->\n      <g transform=\"translate(233.820962 239.238437)scale(0.1 -0.1)\">\n       <use xlink:href=\"#DejaVuSans-50\"/>\n       <use x=\"63.623047\" xlink:href=\"#DejaVuSans-53\"/>\n      </g>\n     </g>\n    </g>\n   </g>\n   <g id=\"matplotlib.axis_2\">\n    <g id=\"ytick_1\">\n     <g id=\"line2d_7\">\n      <defs>\n       <path d=\"M 0 0 \nL -3.5 0 \n\" id=\"md75938c238\" style=\"stroke:#000000;stroke-width:0.8;\"/>\n      </defs>\n      <g>\n       <use style=\"stroke:#000000;stroke-width:0.8;\" x=\"26.925\" xlink:href=\"#md75938c238\" y=\"11.381538\"/>\n      </g>\n     </g>\n     <g id=\"text_7\">\n      <!-- 0 -->\n      <g transform=\"translate(13.5625 15.180757)scale(0.1 -0.1)\">\n       <use xlink:href=\"#DejaVuSans-48\"/>\n      </g>\n     </g>\n    </g>\n    <g id=\"ytick_2\">\n     <g id=\"line2d_8\">\n      <g>\n       <use style=\"stroke:#000000;stroke-width:0.8;\" x=\"26.925\" xlink:href=\"#md75938c238\" y=\"53.196923\"/>\n      </g>\n     </g>\n     <g id=\"text_8\">\n      <!-- 5 -->\n      <g transform=\"translate(13.5625 56.996142)scale(0.1 -0.1)\">\n       <use xlink:href=\"#DejaVuSans-53\"/>\n      </g>\n     </g>\n    </g>\n    <g id=\"ytick_3\">\n     <g id=\"line2d_9\">\n      <g>\n       <use style=\"stroke:#000000;stroke-width:0.8;\" x=\"26.925\" xlink:href=\"#md75938c238\" y=\"95.012308\"/>\n      </g>\n     </g>\n     <g id=\"text_9\">\n      <!-- 10 -->\n      <g transform=\"translate(7.2 98.811526)scale(0.1 -0.1)\">\n       <use xlink:href=\"#DejaVuSans-49\"/>\n       <use x=\"63.623047\" xlink:href=\"#DejaVuSans-48\"/>\n      </g>\n     </g>\n    </g>\n    <g id=\"ytick_4\">\n     <g id=\"line2d_10\">\n      <g>\n       <use style=\"stroke:#000000;stroke-width:0.8;\" x=\"26.925\" xlink:href=\"#md75938c238\" y=\"136.827692\"/>\n      </g>\n     </g>\n     <g id=\"text_10\">\n      <!-- 15 -->\n      <g transform=\"translate(7.2 140.626911)scale(0.1 -0.1)\">\n       <use xlink:href=\"#DejaVuSans-49\"/>\n       <use x=\"63.623047\" xlink:href=\"#DejaVuSans-53\"/>\n      </g>\n     </g>\n    </g>\n    <g id=\"ytick_5\">\n     <g id=\"line2d_11\">\n      <g>\n       <use style=\"stroke:#000000;stroke-width:0.8;\" x=\"26.925\" xlink:href=\"#md75938c238\" y=\"178.643077\"/>\n      </g>\n     </g>\n     <g id=\"text_11\">\n      <!-- 20 -->\n      <g transform=\"translate(7.2 182.442296)scale(0.1 -0.1)\">\n       <use xlink:href=\"#DejaVuSans-50\"/>\n       <use x=\"63.623047\" xlink:href=\"#DejaVuSans-48\"/>\n      </g>\n     </g>\n    </g>\n    <g id=\"ytick_6\">\n     <g id=\"line2d_12\">\n      <g>\n       <use style=\"stroke:#000000;stroke-width:0.8;\" x=\"26.925\" xlink:href=\"#md75938c238\" y=\"220.458462\"/>\n      </g>\n     </g>\n     <g id=\"text_12\">\n      <!-- 25 -->\n      <g transform=\"translate(7.2 224.25768)scale(0.1 -0.1)\">\n       <use xlink:href=\"#DejaVuSans-50\"/>\n       <use x=\"63.623047\" xlink:href=\"#DejaVuSans-53\"/>\n      </g>\n     </g>\n    </g>\n   </g>\n   <g id=\"patch_3\">\n    <path d=\"M 26.925 224.64 \nL 26.925 7.2 \n\" style=\"fill:none;stroke:#000000;stroke-linecap:square;stroke-linejoin:miter;stroke-width:0.8;\"/>\n   </g>\n   <g id=\"patch_4\">\n    <path d=\"M 244.365 224.64 \nL 244.365 7.2 \n\" style=\"fill:none;stroke:#000000;stroke-linecap:square;stroke-linejoin:miter;stroke-width:0.8;\"/>\n   </g>\n   <g id=\"patch_5\">\n    <path d=\"M 26.925 224.64 \nL 244.365 224.64 \n\" style=\"fill:none;stroke:#000000;stroke-linecap:square;stroke-linejoin:miter;stroke-width:0.8;\"/>\n   </g>\n   <g id=\"patch_6\">\n    <path d=\"M 26.925 7.2 \nL 244.365 7.2 \n\" style=\"fill:none;stroke:#000000;stroke-linecap:square;stroke-linejoin:miter;stroke-width:0.8;\"/>\n   </g>\n  </g>\n </g>\n <defs>\n  <clipPath id=\"pd26820e4b2\">\n   <rect height=\"217.44\" width=\"217.44\" x=\"26.925\" y=\"7.2\"/>\n  </clipPath>\n </defs>\n</svg>\n",
      "image/png": "[encoded data removed]"
     },
     "metadata": {
      "needs_background": "light"
     }
    }
   ],
   "source": [
    "a = detect_patch(model, clean_examples[19])\n",
    "plt.imshow(a.squeeze(0).squeeze(0).detach().numpy())"
   ]
  },
  {
   "cell_type": "code",
   "execution_count": null,
   "metadata": {},
   "outputs": [],
   "source": []
  }
 ]
}